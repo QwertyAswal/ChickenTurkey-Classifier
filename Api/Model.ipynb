{
 "cells": [
  {
   "cell_type": "code",
   "execution_count": 1,
   "metadata": {
    "colab": {},
    "colab_type": "code",
    "id": "-5P06ZzIyHBC"
   },
   "outputs": [],
   "source": [
    "import tensorflow as tf"
   ]
  },
  {
   "cell_type": "code",
   "execution_count": 2,
   "metadata": {
    "colab": {},
    "colab_type": "code",
    "id": "3zfiH7cryHBH"
   },
   "outputs": [],
   "source": [
    "import IPython.display as display\n",
    "from PIL import Image\n",
    "import numpy as np\n",
    "import matplotlib.pyplot as plt\n",
    "import os\n",
    "\n",
    "import pathlib"
   ]
  },
  {
   "cell_type": "code",
   "execution_count": 3,
   "metadata": {
    "colab": {},
    "colab_type": "code",
    "id": "LgfPMeC-Tc0D"
   },
   "outputs": [],
   "source": [
    "!tar -xf Data.tar.xz"
   ]
  },
  {
   "cell_type": "code",
   "execution_count": 11,
   "metadata": {
    "colab": {
     "base_uri": "https://localhost:8080/",
     "height": 34
    },
    "colab_type": "code",
    "id": "BLyr2XZuyHBM",
    "outputId": "19f7f168-f8b7-4339-c154-d06990b6f6ee"
   },
   "outputs": [
    {
     "data": {
      "text/plain": [
       "PosixPath('Data')"
      ]
     },
     "execution_count": 11,
     "metadata": {
      "tags": []
     },
     "output_type": "execute_result"
    }
   ],
   "source": [
    "data_dir = pathlib.Path('Data')\n",
    "data_dir"
   ]
  },
  {
   "cell_type": "code",
   "execution_count": 12,
   "metadata": {
    "colab": {
     "base_uri": "https://localhost:8080/",
     "height": 34
    },
    "colab_type": "code",
    "id": "gnCyPIn0T-f7",
    "outputId": "fe5479dc-5181-45f8-937d-4155e390e362"
   },
   "outputs": [
    {
     "name": "stdout",
     "output_type": "stream",
     "text": [
      "Data  Data.tar.xz  sample_data\n"
     ]
    }
   ],
   "source": [
    "!ls"
   ]
  },
  {
   "cell_type": "code",
   "execution_count": 13,
   "metadata": {
    "colab": {
     "base_uri": "https://localhost:8080/",
     "height": 34
    },
    "colab_type": "code",
    "id": "klGriovAyHBS",
    "outputId": "bbdedca3-bb7c-4ca0-d787-7bfe1daec097"
   },
   "outputs": [
    {
     "data": {
      "text/plain": [
       "1000"
      ]
     },
     "execution_count": 13,
     "metadata": {
      "tags": []
     },
     "output_type": "execute_result"
    }
   ],
   "source": [
    "image_count = len(list(data_dir.glob('*/*.jpeg')))\n",
    "image_count"
   ]
  },
  {
   "cell_type": "code",
   "execution_count": 14,
   "metadata": {
    "colab": {
     "base_uri": "https://localhost:8080/",
     "height": 34
    },
    "colab_type": "code",
    "id": "AfxXOquKyHBW",
    "outputId": "64f2181d-65aa-4026-ace6-80c83aa0be1b"
   },
   "outputs": [
    {
     "data": {
      "text/plain": [
       "array(['turkey', 'chicken'], dtype='<U7')"
      ]
     },
     "execution_count": 14,
     "metadata": {
      "tags": []
     },
     "output_type": "execute_result"
    }
   ],
   "source": [
    "CLASS_NAMES = np.array([item.name for item in data_dir.glob('*')])\n",
    "CLASS_NAMES"
   ]
  },
  {
   "cell_type": "code",
   "execution_count": 15,
   "metadata": {
    "colab": {},
    "colab_type": "code",
    "id": "3VOMfZ1hyHBa"
   },
   "outputs": [],
   "source": [
    "BATCH_SIZE = 32\n",
    "IMG_HEIGHT = 224\n",
    "IMG_WIDTH = 224"
   ]
  },
  {
   "cell_type": "code",
   "execution_count": 16,
   "metadata": {
    "colab": {},
    "colab_type": "code",
    "id": "yOXs-YVJyHBe"
   },
   "outputs": [],
   "source": [
    "def show_batch(image_batch, label_batch):\n",
    "  plt.figure(figsize=(10,10))\n",
    "  for n in range(25):\n",
    "      ax = plt.subplot(5,5,n+1)\n",
    "      plt.imshow(image_batch[n])\n",
    "      plt.title(CLASS_NAMES[label_batch[n]==1][0].title())\n",
    "      plt.axis('off')"
   ]
  },
  {
   "cell_type": "code",
   "execution_count": 17,
   "metadata": {
    "colab": {},
    "colab_type": "code",
    "id": "WCR4tEgkyHBi"
   },
   "outputs": [],
   "source": [
    "list_ds = tf.data.Dataset.list_files([str(data_dir/'*/*.jpeg')])"
   ]
  },
  {
   "cell_type": "code",
   "execution_count": 18,
   "metadata": {
    "colab": {
     "base_uri": "https://localhost:8080/",
     "height": 102
    },
    "colab_type": "code",
    "id": "SmhhJFa6yHBl",
    "outputId": "7f841abe-7931-415e-8df3-fe716d1bd99f"
   },
   "outputs": [
    {
     "name": "stdout",
     "output_type": "stream",
     "text": [
      "b'Data/chicken/images125.jpeg'\n",
      "b'Data/chicken/images179.jpeg'\n",
      "b'Data/turkey/images190.jpeg'\n",
      "b'Data/turkey/images334.jpeg'\n",
      "b'Data/turkey/images302.jpeg'\n"
     ]
    }
   ],
   "source": [
    "for f in list_ds.take(5):\n",
    "    print(f.numpy())"
   ]
  },
  {
   "cell_type": "code",
   "execution_count": 19,
   "metadata": {
    "colab": {},
    "colab_type": "code",
    "id": "LUDe6R3_yHBp"
   },
   "outputs": [],
   "source": [
    "def get_label(file_path):\n",
    "    parts = tf.strings.split(file_path, sep= os.path.sep)\n",
    "    return tf.cast((parts[-2] == CLASS_NAMES), dtype='uint8')"
   ]
  },
  {
   "cell_type": "code",
   "execution_count": 20,
   "metadata": {
    "colab": {},
    "colab_type": "code",
    "id": "V3QAweQ2yHBt"
   },
   "outputs": [],
   "source": [
    "def decode_img(img):\n",
    "    img = tf.io.decode_jpeg(img, channels=3)\n",
    "    img = tf.image.convert_image_dtype(img, tf.float32)\n",
    "    return tf.image.resize(img, [IMG_HEIGHT, IMG_WIDTH])"
   ]
  },
  {
   "cell_type": "code",
   "execution_count": 21,
   "metadata": {
    "colab": {},
    "colab_type": "code",
    "id": "eZVa6hUtyHBw"
   },
   "outputs": [],
   "source": [
    "def process_path(file_path):\n",
    "    label = get_label(file_path)\n",
    "    img = decode_img(tf.io.read_file(file_path))\n",
    "    return img, label"
   ]
  },
  {
   "cell_type": "code",
   "execution_count": 22,
   "metadata": {
    "colab": {},
    "colab_type": "code",
    "id": "PsBMIofEyHB1"
   },
   "outputs": [],
   "source": [
    "labeled_ds = list_ds.map(process_path, num_parallel_calls=tf.data.experimental.AUTOTUNE)"
   ]
  },
  {
   "cell_type": "code",
   "execution_count": 23,
   "metadata": {
    "colab": {
     "base_uri": "https://localhost:8080/",
     "height": 34
    },
    "colab_type": "code",
    "id": "Y6t9Kp_JyHB4",
    "outputId": "9b4e38c2-ca34-45fd-d5ce-11b478edb664"
   },
   "outputs": [
    {
     "name": "stdout",
     "output_type": "stream",
     "text": [
      "(224, 224, 3)\n"
     ]
    }
   ],
   "source": [
    "for item in labeled_ds.take(1):\n",
    "    print(item[0].shape)"
   ]
  },
  {
   "cell_type": "code",
   "execution_count": 51,
   "metadata": {
    "colab": {},
    "colab_type": "code",
    "id": "EUVXyk3lyHB8"
   },
   "outputs": [],
   "source": [
    "ds = labeled_ds.shuffle(buffer_size=1000, seed=42)"
   ]
  },
  {
   "cell_type": "code",
   "execution_count": 52,
   "metadata": {
    "colab": {},
    "colab_type": "code",
    "id": "WPAJJJ1wyHB_"
   },
   "outputs": [],
   "source": [
    "import tensorflow_datasets as tfds"
   ]
  },
  {
   "cell_type": "code",
   "execution_count": 44,
   "metadata": {
    "colab": {},
    "colab_type": "code",
    "id": "8HnlIuaOyHCD"
   },
   "outputs": [],
   "source": [
    "dds = tfds.as_numpy(ds)"
   ]
  },
  {
   "cell_type": "code",
   "execution_count": 47,
   "metadata": {
    "colab": {},
    "colab_type": "code",
    "id": "apwDyMozyHCG"
   },
   "outputs": [],
   "source": [
    "xx,yy =[],[]\n",
    "for i,j in dds:\n",
    "  xx.append(i)\n",
    "  yy.append(j)"
   ]
  },
  {
   "cell_type": "code",
   "execution_count": 53,
   "metadata": {
    "colab": {},
    "colab_type": "code",
    "id": "NIJTZVRzYGad"
   },
   "outputs": [],
   "source": [
    "x = np.array(xx)\n",
    "y = np.array(yy)"
   ]
  },
  {
   "cell_type": "code",
   "execution_count": 74,
   "metadata": {
    "colab": {},
    "colab_type": "code",
    "id": "OTkR7XjcyHCM"
   },
   "outputs": [],
   "source": [
    "tf.keras.backend.clear_session()"
   ]
  },
  {
   "cell_type": "code",
   "execution_count": 75,
   "metadata": {
    "colab": {},
    "colab_type": "code",
    "id": "5lmUmiSGyHCP"
   },
   "outputs": [],
   "source": [
    "input_ = tf.keras.layers.Input(shape=[224,224,3])\n",
    "conv1 = tf.keras.layers.Conv2D(64, 5, activation= 'relu', padding='same')(input_)\n",
    "pool1 = tf.keras.layers.MaxPool2D(2)(conv1)\n",
    "conv2 = tf.keras.layers.Conv2D(128, 5, activation= 'relu', padding='same')(pool1)\n",
    "pool2 = tf.keras.layers.MaxPool2D(2)(conv2)\n",
    "conv3 = tf.keras.layers.Conv2D(256, 3, activation= 'relu', padding='same')(pool2)\n",
    "pool3 = tf.keras.layers.MaxPool2D(2)(conv3)\n",
    "conv4 = tf.keras.layers.Conv2D(512, 3, activation= 'relu', padding='same')(pool3)\n",
    "pool4 = tf.keras.layers.MaxPool2D(2)(conv4)\n",
    "conv5 = tf.keras.layers.Conv2D(1024, 3, activation= 'relu', padding='same')(pool4)\n",
    "pool5 = tf.keras.layers.MaxPool2D(2)(conv5)\n",
    "conv6 = tf.keras.layers.Conv2D(2048, 3, activation= 'relu', padding='same')(pool5)\n",
    "pool6 = tf.keras.layers.MaxPool2D(2)(conv6)\n",
    "flat = tf.keras.layers.Flatten()(pool6)\n",
    "dense1 = tf.keras.layers.Dense(1024, activation= 'relu')(flat)\n",
    "drop1 = tf.keras.layers.Dropout(0.5)(dense1)\n",
    "dense2 = tf.keras.layers.Dense(256, activation= 'relu')(drop1)\n",
    "drop2 = tf.keras.layers.Dropout(0.5)(dense2)\n",
    "dense3 = tf.keras.layers.Dense(64, activation= 'relu')(drop2)\n",
    "dense4 = tf.keras.layers.Dense(16, activation= 'relu')(dense3)\n",
    "output_ = tf.keras.layers.Dense(2, activation= 'softmax')(dense4)"
   ]
  },
  {
   "cell_type": "code",
   "execution_count": 76,
   "metadata": {
    "colab": {},
    "colab_type": "code",
    "id": "zuYEtbf1yHCS"
   },
   "outputs": [],
   "source": [
    "model = tf.keras.Model(inputs=[input_], outputs=[output_])"
   ]
  },
  {
   "cell_type": "code",
   "execution_count": 77,
   "metadata": {
    "colab": {
     "base_uri": "https://localhost:8080/",
     "height": 867
    },
    "colab_type": "code",
    "collapsed": true,
    "id": "wc0k35ODyHCV",
    "outputId": "cb8f7114-ca14-4ec4-8071-284cefe64f90"
   },
   "outputs": [
    {
     "name": "stdout",
     "output_type": "stream",
     "text": [
      "Model: \"model\"\n",
      "_________________________________________________________________\n",
      "Layer (type)                 Output Shape              Param #   \n",
      "=================================================================\n",
      "input_1 (InputLayer)         [(None, 224, 224, 3)]     0         \n",
      "_________________________________________________________________\n",
      "conv2d (Conv2D)              (None, 224, 224, 64)      4864      \n",
      "_________________________________________________________________\n",
      "max_pooling2d (MaxPooling2D) (None, 112, 112, 64)      0         \n",
      "_________________________________________________________________\n",
      "conv2d_1 (Conv2D)            (None, 112, 112, 128)     204928    \n",
      "_________________________________________________________________\n",
      "max_pooling2d_1 (MaxPooling2 (None, 56, 56, 128)       0         \n",
      "_________________________________________________________________\n",
      "conv2d_2 (Conv2D)            (None, 56, 56, 256)       295168    \n",
      "_________________________________________________________________\n",
      "max_pooling2d_2 (MaxPooling2 (None, 28, 28, 256)       0         \n",
      "_________________________________________________________________\n",
      "conv2d_3 (Conv2D)            (None, 28, 28, 512)       1180160   \n",
      "_________________________________________________________________\n",
      "max_pooling2d_3 (MaxPooling2 (None, 14, 14, 512)       0         \n",
      "_________________________________________________________________\n",
      "conv2d_4 (Conv2D)            (None, 14, 14, 1024)      4719616   \n",
      "_________________________________________________________________\n",
      "max_pooling2d_4 (MaxPooling2 (None, 7, 7, 1024)        0         \n",
      "_________________________________________________________________\n",
      "conv2d_5 (Conv2D)            (None, 7, 7, 2048)        18876416  \n",
      "_________________________________________________________________\n",
      "max_pooling2d_5 (MaxPooling2 (None, 3, 3, 2048)        0         \n",
      "_________________________________________________________________\n",
      "flatten (Flatten)            (None, 18432)             0         \n",
      "_________________________________________________________________\n",
      "dense (Dense)                (None, 1024)              18875392  \n",
      "_________________________________________________________________\n",
      "dropout (Dropout)            (None, 1024)              0         \n",
      "_________________________________________________________________\n",
      "dense_1 (Dense)              (None, 256)               262400    \n",
      "_________________________________________________________________\n",
      "dropout_1 (Dropout)          (None, 256)               0         \n",
      "_________________________________________________________________\n",
      "dense_2 (Dense)              (None, 64)                16448     \n",
      "_________________________________________________________________\n",
      "dense_3 (Dense)              (None, 16)                1040      \n",
      "_________________________________________________________________\n",
      "dense_4 (Dense)              (None, 2)                 34        \n",
      "=================================================================\n",
      "Total params: 44,436,466\n",
      "Trainable params: 44,436,466\n",
      "Non-trainable params: 0\n",
      "_________________________________________________________________\n"
     ]
    }
   ],
   "source": [
    "model.summary()"
   ]
  },
  {
   "cell_type": "code",
   "execution_count": 78,
   "metadata": {
    "colab": {},
    "colab_type": "code",
    "id": "fCYj-dtjyHCY"
   },
   "outputs": [],
   "source": [
    "model.compile(optimizer=tf.keras.optimizers.Adamax(learning_rate=0.0001), loss=tf.keras.losses.BinaryCrossentropy(), metrics=['accuracy'])"
   ]
  },
  {
   "cell_type": "code",
   "execution_count": 79,
   "metadata": {
    "colab": {
     "base_uri": "https://localhost:8080/",
     "height": 901
    },
    "colab_type": "code",
    "collapsed": true,
    "id": "uR6xgHSqyHCb",
    "outputId": "6097df7e-298d-4322-ade2-e1f7ea3532c3"
   },
   "outputs": [
    {
     "name": "stdout",
     "output_type": "stream",
     "text": [
      "Epoch 1/100\n",
      "29/29 [==============================] - 3s 113ms/step - loss: 0.6955 - accuracy: 0.5028 - val_loss: 0.6925 - val_accuracy: 0.4900\n",
      "Epoch 2/100\n",
      "29/29 [==============================] - 3s 106ms/step - loss: 0.6934 - accuracy: 0.4983 - val_loss: 0.6916 - val_accuracy: 0.4900\n",
      "Epoch 3/100\n",
      "29/29 [==============================] - 3s 104ms/step - loss: 0.6934 - accuracy: 0.4894 - val_loss: 0.6912 - val_accuracy: 0.4900\n",
      "Epoch 4/100\n",
      "29/29 [==============================] - 3s 105ms/step - loss: 0.6856 - accuracy: 0.5250 - val_loss: 0.6779 - val_accuracy: 0.4900\n",
      "Epoch 5/100\n",
      "29/29 [==============================] - 3s 106ms/step - loss: 0.6624 - accuracy: 0.5929 - val_loss: 0.6226 - val_accuracy: 0.7200\n",
      "Epoch 6/100\n",
      "29/29 [==============================] - 3s 104ms/step - loss: 0.6089 - accuracy: 0.7097 - val_loss: 0.6023 - val_accuracy: 0.6600\n",
      "Epoch 7/100\n",
      "29/29 [==============================] - 3s 106ms/step - loss: 0.5867 - accuracy: 0.7063 - val_loss: 0.5427 - val_accuracy: 0.7100\n",
      "Epoch 8/100\n",
      "29/29 [==============================] - 3s 105ms/step - loss: 0.5422 - accuracy: 0.7475 - val_loss: 0.4964 - val_accuracy: 0.7900\n",
      "Epoch 9/100\n",
      "29/29 [==============================] - 3s 105ms/step - loss: 0.5404 - accuracy: 0.7597 - val_loss: 0.5737 - val_accuracy: 0.7100\n",
      "Epoch 10/100\n",
      "29/29 [==============================] - 3s 105ms/step - loss: 0.5361 - accuracy: 0.7597 - val_loss: 0.4970 - val_accuracy: 0.8000\n",
      "Epoch 11/100\n",
      "29/29 [==============================] - 3s 104ms/step - loss: 0.5145 - accuracy: 0.7653 - val_loss: 0.4854 - val_accuracy: 0.8000\n",
      "Epoch 12/100\n",
      "29/29 [==============================] - 3s 106ms/step - loss: 0.5078 - accuracy: 0.7731 - val_loss: 0.4800 - val_accuracy: 0.8100\n",
      "Epoch 13/100\n",
      "29/29 [==============================] - 3s 106ms/step - loss: 0.5102 - accuracy: 0.7764 - val_loss: 0.4797 - val_accuracy: 0.7700\n",
      "Epoch 14/100\n",
      "29/29 [==============================] - 3s 106ms/step - loss: 0.4987 - accuracy: 0.7820 - val_loss: 0.4710 - val_accuracy: 0.8000\n",
      "Epoch 15/100\n",
      "29/29 [==============================] - 3s 106ms/step - loss: 0.4902 - accuracy: 0.7864 - val_loss: 0.4746 - val_accuracy: 0.7900\n",
      "Epoch 16/100\n",
      "29/29 [==============================] - 3s 105ms/step - loss: 0.4772 - accuracy: 0.8053 - val_loss: 0.4731 - val_accuracy: 0.7700\n",
      "Epoch 17/100\n",
      "29/29 [==============================] - 3s 105ms/step - loss: 0.4736 - accuracy: 0.8042 - val_loss: 0.4496 - val_accuracy: 0.8200\n",
      "Epoch 18/100\n",
      "29/29 [==============================] - 3s 106ms/step - loss: 0.4654 - accuracy: 0.8131 - val_loss: 0.4520 - val_accuracy: 0.8300\n",
      "Epoch 19/100\n",
      "29/29 [==============================] - 3s 105ms/step - loss: 0.4591 - accuracy: 0.7942 - val_loss: 0.4792 - val_accuracy: 0.8000\n",
      "Epoch 20/100\n",
      "29/29 [==============================] - 3s 105ms/step - loss: 0.4685 - accuracy: 0.7887 - val_loss: 0.4704 - val_accuracy: 0.8100\n",
      "Epoch 21/100\n",
      "29/29 [==============================] - 3s 105ms/step - loss: 0.4673 - accuracy: 0.8154 - val_loss: 0.4237 - val_accuracy: 0.8300\n",
      "Epoch 22/100\n",
      "29/29 [==============================] - 3s 106ms/step - loss: 0.4552 - accuracy: 0.8120 - val_loss: 0.4265 - val_accuracy: 0.8200\n",
      "Epoch 23/100\n",
      "29/29 [==============================] - 3s 105ms/step - loss: 0.4499 - accuracy: 0.8142 - val_loss: 0.4548 - val_accuracy: 0.8100\n",
      "Epoch 24/100\n",
      "29/29 [==============================] - 3s 106ms/step - loss: 0.4276 - accuracy: 0.8231 - val_loss: 0.4240 - val_accuracy: 0.8200\n",
      "Epoch 25/100\n",
      "29/29 [==============================] - 3s 106ms/step - loss: 0.4219 - accuracy: 0.8298 - val_loss: 0.4623 - val_accuracy: 0.8000\n",
      "Epoch 26/100\n",
      "29/29 [==============================] - 3s 106ms/step - loss: 0.4162 - accuracy: 0.8354 - val_loss: 0.4499 - val_accuracy: 0.8100\n"
     ]
    }
   ],
   "source": [
    "history = model.fit(x,y, epochs=100,validation_split=0.1, callbacks=[tf.keras.callbacks.EarlyStopping(patience=5)])"
   ]
  },
  {
   "cell_type": "code",
   "execution_count": 81,
   "metadata": {
    "colab": {},
    "colab_type": "code",
    "id": "WZ_6o6j-aOm1"
   },
   "outputs": [],
   "source": [
    "model.save('withoutResNet.h5')"
   ]
  },
  {
   "cell_type": "code",
   "execution_count": null,
   "metadata": {
    "colab": {},
    "colab_type": "code",
    "id": "15hKFfENbelD"
   },
   "outputs": [],
   "source": []
  }
 ],
 "metadata": {
  "accelerator": "GPU",
  "colab": {
   "name": "Model.ipynb",
   "provenance": []
  },
  "kernelspec": {
   "display_name": "Python 3",
   "language": "python",
   "name": "python3"
  },
  "language_info": {
   "codemirror_mode": {
    "name": "ipython",
    "version": 3
   },
   "file_extension": ".py",
   "mimetype": "text/x-python",
   "name": "python",
   "nbconvert_exporter": "python",
   "pygments_lexer": "ipython3",
   "version": "3.7.7"
  }
 },
 "nbformat": 4,
 "nbformat_minor": 1
}
